{
 "cells": [
  {
   "cell_type": "code",
   "execution_count": 1,
   "metadata": {},
   "outputs": [
    {
     "name": "stdout",
     "output_type": "stream",
     "text": [
      "Desktop: ok\n",
      "Mobile: ok\n"
     ]
    }
   ],
   "source": [
    "import pyautogui\n",
    "from time import sleep\n",
    "from random import randint\n",
    "\n",
    "\n",
    "cord_desktop = [530, 149]\n",
    "cord_mobile = [530, 217]\n",
    "letras = 'um papibaquigrafo serve para papibaquigrafar'\n",
    "num_desktop = 0\n",
    "num_mobile = 0\n",
    "inspecionar = r'E:\\Repos-Github\\Pesquisa-Microsoft-Rewards\\inspecionar.png'\n",
    "wait_inspecionar = r'E:\\Repos-Github\\Pesquisa-Microsoft-Rewards\\wait-inspecionar.png'\n",
    "mobile = r'E:\\Repos-Github\\Pesquisa-Microsoft-Rewards\\mobile.png'\n",
    "bing = r'E:\\Repos-Github\\Pesquisa-Microsoft-Rewards\\bing.png'\n",
    "\n",
    "'''pyautogui.click(cord_desktop, duration=0.3)\n",
    "pyautogui.write(f'{randint(0,999999999999999999)}', )\n",
    "pyautogui.press('enter')'''\n",
    "\n",
    "for letra in letras:\n",
    "    pyautogui.click(cord_desktop, duration=0.3)\n",
    "    pyautogui.press(letra)\n",
    "    pyautogui.press('enter')\n",
    "    num_desktop += 1\n",
    "    sleep(1)\n",
    "    # pyautogui.press('f5')\n",
    "    if num_desktop == 36: ######### diminuir o numero no teste\n",
    "        break\n",
    "    sleep(1)\n",
    "print('Desktop: ok')\n",
    "\n",
    "sleep(1)\n",
    "while pyautogui.locateOnScreen(wait_inspecionar) == None:\n",
    "    sleep(1)\n",
    "# entrando no mobile\n",
    "pyautogui.rightClick(wait_inspecionar, duration=0.5)\n",
    "pyautogui.click(inspecionar, duration=0.5)\n",
    "\n",
    "sleep(4)\n",
    "\n",
    "for letra in letras:\n",
    "    if pyautogui.locateOnScreen(bing) != None:\n",
    "        cord_mobile = [530, 265]\n",
    "    pyautogui.click(cord_mobile, duration=0.3)\n",
    "    pyautogui.press(letra)\n",
    "    pyautogui.press('enter')\n",
    "    sleep(1)\n",
    "    # pyautogui.press('f5')\n",
    "    num_mobile += 1\n",
    "    if num_mobile == 22: ######### diminuir o numero no teste\n",
    "        break\n",
    "    sleep(1)\n",
    "print('Mobile: ok')"
   ]
  }
 ],
 "metadata": {
  "kernelspec": {
   "display_name": "Python 3",
   "language": "python",
   "name": "python3"
  },
  "language_info": {
   "codemirror_mode": {
    "name": "ipython",
    "version": 3
   },
   "file_extension": ".py",
   "mimetype": "text/x-python",
   "name": "python",
   "nbconvert_exporter": "python",
   "pygments_lexer": "ipython3",
   "version": "3.11.1"
  },
  "orig_nbformat": 4
 },
 "nbformat": 4,
 "nbformat_minor": 2
}
